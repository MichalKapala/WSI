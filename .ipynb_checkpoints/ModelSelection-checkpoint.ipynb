{
 "cells": [
  {
   "cell_type": "code",
   "execution_count": 1,
   "id": "b4a4bae8",
   "metadata": {},
   "outputs": [],
   "source": [
    "import numpy as np\n",
    "import pandas as pd\n",
    "import matplotlib.pyplot as plt\n",
    "import warnings\n",
    "import time\n",
    "from sklearn.model_selection import train_test_split, cross_validate\n",
    "from sklearn.linear_model import LinearRegression\n",
    "from sklearn.tree import DecisionTreeRegressor\n",
    "from sklearn.ensemble import RandomForestRegressor\n",
    "from sklearn.linear_model import Ridge, Lasso\n",
    "from sklearn.svm import SVR\n",
    "from sklearn.ensemble import GradientBoostingRegressor\n",
    "from sklearn.ensemble import AdaBoostRegressor, BaggingRegressor\n",
    "from sklearn.ensemble import StackingRegressor\n",
    "from sklearn.svm import LinearSVR\n",
    "from sklearn.model_selection import cross_val_score, KFold\n",
    "from sklearn.exceptions import ConvergenceWarning, DataConversionWarning\n"
   ]
  },
  {
   "cell_type": "code",
   "execution_count": 2,
   "id": "773b52fb",
   "metadata": {},
   "outputs": [],
   "source": [
    "warnings.filterwarnings(\"ignore\", category=ConvergenceWarning)\n",
    "warnings.filterwarnings(\"ignore\", category=DataConversionWarning)"
   ]
  },
  {
   "cell_type": "code",
   "execution_count": 3,
   "id": "50ca5c08",
   "metadata": {},
   "outputs": [],
   "source": [
    "data = pd.read_csv('./data/cleaned_car_data.csv', index_col=0)"
   ]
  },
  {
   "cell_type": "code",
   "execution_count": 4,
   "id": "6dcf00bd",
   "metadata": {},
   "outputs": [
    {
     "data": {
      "text/html": [
       "<div>\n",
       "<style scoped>\n",
       "    .dataframe tbody tr th:only-of-type {\n",
       "        vertical-align: middle;\n",
       "    }\n",
       "\n",
       "    .dataframe tbody tr th {\n",
       "        vertical-align: top;\n",
       "    }\n",
       "\n",
       "    .dataframe thead th {\n",
       "        text-align: right;\n",
       "    }\n",
       "</style>\n",
       "<table border=\"1\" class=\"dataframe\">\n",
       "  <thead>\n",
       "    <tr style=\"text-align: right;\">\n",
       "      <th></th>\n",
       "      <th>milage</th>\n",
       "      <th>accident</th>\n",
       "      <th>price</th>\n",
       "      <th>horsepower</th>\n",
       "      <th>brand_alfa</th>\n",
       "      <th>brand_aston</th>\n",
       "      <th>brand_audi</th>\n",
       "      <th>brand_bentley</th>\n",
       "      <th>brand_bmw</th>\n",
       "      <th>brand_buick</th>\n",
       "      <th>...</th>\n",
       "      <th>brand_toyota</th>\n",
       "      <th>brand_volkswagen</th>\n",
       "      <th>brand_volvo</th>\n",
       "      <th>fuel_type_e85 flex fuel</th>\n",
       "      <th>fuel_type_electric</th>\n",
       "      <th>fuel_type_gasoline</th>\n",
       "      <th>fuel_type_hybrid</th>\n",
       "      <th>fuel_type_hydrogen</th>\n",
       "      <th>fuel_type_plug-in hybrid</th>\n",
       "      <th>transmission_category_manual</th>\n",
       "    </tr>\n",
       "  </thead>\n",
       "  <tbody>\n",
       "    <tr>\n",
       "      <th>1646</th>\n",
       "      <td>-0.643203</td>\n",
       "      <td>0.0</td>\n",
       "      <td>26999.0</td>\n",
       "      <td>-0.822819</td>\n",
       "      <td>False</td>\n",
       "      <td>False</td>\n",
       "      <td>False</td>\n",
       "      <td>False</td>\n",
       "      <td>True</td>\n",
       "      <td>False</td>\n",
       "      <td>...</td>\n",
       "      <td>False</td>\n",
       "      <td>False</td>\n",
       "      <td>False</td>\n",
       "      <td>False</td>\n",
       "      <td>False</td>\n",
       "      <td>True</td>\n",
       "      <td>False</td>\n",
       "      <td>False</td>\n",
       "      <td>False</td>\n",
       "      <td>False</td>\n",
       "    </tr>\n",
       "  </tbody>\n",
       "</table>\n",
       "<p>1 rows × 66 columns</p>\n",
       "</div>"
      ],
      "text/plain": [
       "        milage  accident    price  horsepower  brand_alfa  brand_aston  \\\n",
       "1646 -0.643203       0.0  26999.0   -0.822819       False        False   \n",
       "\n",
       "      brand_audi  brand_bentley  brand_bmw  brand_buick  ...  brand_toyota  \\\n",
       "1646       False          False       True        False  ...         False   \n",
       "\n",
       "      brand_volkswagen  brand_volvo  fuel_type_e85 flex fuel  \\\n",
       "1646             False        False                    False   \n",
       "\n",
       "      fuel_type_electric  fuel_type_gasoline  fuel_type_hybrid  \\\n",
       "1646               False                True             False   \n",
       "\n",
       "      fuel_type_hydrogen  fuel_type_plug-in hybrid  \\\n",
       "1646               False                     False   \n",
       "\n",
       "      transmission_category_manual  \n",
       "1646                         False  \n",
       "\n",
       "[1 rows x 66 columns]"
      ]
     },
     "execution_count": 4,
     "metadata": {},
     "output_type": "execute_result"
    }
   ],
   "source": [
    "data.sample()"
   ]
  },
  {
   "cell_type": "code",
   "execution_count": 5,
   "id": "fba041e5",
   "metadata": {},
   "outputs": [],
   "source": [
    "features = data.drop([\"price\"], axis=1)\n",
    "target = data[[\"price\"]]"
   ]
  },
  {
   "cell_type": "code",
   "execution_count": 6,
   "id": "db57cd28",
   "metadata": {},
   "outputs": [],
   "source": [
    "X = features.values\n",
    "y = target.values"
   ]
  },
  {
   "cell_type": "code",
   "execution_count": 7,
   "id": "cd936b83",
   "metadata": {},
   "outputs": [],
   "source": [
    "X_train, X_test, y_train, y_test = train_test_split(X, y, test_size=0.2, random_state=42)"
   ]
  },
  {
   "cell_type": "code",
   "execution_count": 8,
   "id": "efeccdaa",
   "metadata": {},
   "outputs": [],
   "source": [
    "kf = KFold(n_splits=5, shuffle=True, random_state=42)\n",
    "scoring = {\n",
    "    'MAE': 'neg_mean_absolute_error',\n",
    "    'MSE': 'neg_mean_squared_error',\n",
    "    'MedAE': 'neg_median_absolute_error'\n",
    "}"
   ]
  },
  {
   "cell_type": "code",
   "execution_count": 9,
   "id": "75c727c0",
   "metadata": {},
   "outputs": [],
   "source": [
    "modelNames = ['Regresja Liniowa', 'Drzewo decyzyjne', 'Drzewo decyzyjne(3,5)', 'Drzewa decyzyjne(5,10)',\n",
    "              'Las losowy', 'Las losowy(100,10)', 'Las losowy(30,none)', 'Regresja Ridge', 'Regresja Lasso',\n",
    "              'SVM', 'SVM(linear, 0.1)', 'SVM(rbf, 2.0, scale)', 'Gradient Boosting Regressor',\n",
    "              'Gradient Boosting Regressor(100,0.01)', 'Gradient Boosting Regressor(200,0.1)',\n",
    "              'AdaBoost', 'AdaBoost(50, 1.0)', 'AdaBoost(100, 0.5)', 'Bagging(50)', 'Bagging(10)', 'Bagging(150)',\n",
    "              'Stacking(lr+svr+rf)', 'Stacking(rf+svr)', 'Stacking(gb+dt)', 'Stacking(rf+br)']\n"
   ]
  },
  {
   "cell_type": "code",
   "execution_count": 10,
   "id": "38f5977a",
   "metadata": {},
   "outputs": [],
   "source": [
    "models = {\n",
    "    modelNames[0]: LinearRegression(),\n",
    "    modelNames[1]: DecisionTreeRegressor(random_state=42),\n",
    "    modelNames[2]: DecisionTreeRegressor(max_depth=3, min_samples_leaf=5),\n",
    "    modelNames[3]: DecisionTreeRegressor(max_depth=5, min_samples_split=10),\n",
    "    modelNames[4]: RandomForestRegressor(random_state=42),\n",
    "    modelNames[5]: RandomForestRegressor(n_estimators=100, max_depth=10),\n",
    "    modelNames[6]: RandomForestRegressor(n_estimators=50, max_depth=None),\n",
    "    modelNames[7]: Ridge(),\n",
    "    modelNames[8]: Lasso(),\n",
    "    modelNames[9]: LinearSVR(random_state=42, dual='auto', max_iter=10000),\n",
    "    modelNames[10]: LinearSVR(random_state=42, dual='auto', max_iter=10000, C=0.1),\n",
    "    modelNames[11]: SVR(kernel='rbf', C=2.0, gamma='scale'),\n",
    "    modelNames[12]: GradientBoostingRegressor(random_state=42),\n",
    "    modelNames[13]: GradientBoostingRegressor(n_estimators=100, learning_rate=0.01),\n",
    "    modelNames[14]: GradientBoostingRegressor(n_estimators=200, learning_rate=0.1),\n",
    "    modelNames[15]: AdaBoostRegressor(random_state=42, n_estimators=50),\n",
    "    modelNames[16]: AdaBoostRegressor(n_estimators=50, learning_rate=1.0),\n",
    "    modelNames[17]: AdaBoostRegressor(n_estimators=100, learning_rate=0.5),\n",
    "    modelNames[18]: BaggingRegressor(random_state=42, n_estimators=50),\n",
    "    modelNames[19]: BaggingRegressor(n_estimators=10),\n",
    "    modelNames[20]: BaggingRegressor(n_estimators=150),\n",
    "    modelNames[21]: StackingRegressor(estimators=[\n",
    "                                                     ('lr', LinearRegression()),\n",
    "                                                     ('svr', LinearSVR(random_state=42, dual='auto')),\n",
    "                                                     ('rf', RandomForestRegressor(random_state=42))\n",
    "                                                 ], final_estimator=Ridge()),\n",
    "    modelNames[22]: StackingRegressor(estimators=[\n",
    "                                                     ('rf', RandomForestRegressor(n_estimators=10)),\n",
    "                                                     ('svr', LinearSVR(random_state=42, dual='auto'))\n",
    "                                                 ], final_estimator=Ridge()),\n",
    "    modelNames[23]: StackingRegressor(estimators=[\n",
    "                                                     ('gb', GradientBoostingRegressor(n_estimators=50)),\n",
    "                                                     ('dt', DecisionTreeRegressor(max_depth=5))\n",
    "                                                 ], final_estimator=Ridge()),\n",
    "    modelNames[24]: StackingRegressor(estimators=[\n",
    "                                                     ('rf', RandomForestRegressor(random_state=42)),\n",
    "                                                     ('br', BaggingRegressor(n_estimators=150))\n",
    "                                                 ], final_estimator=Ridge())\n",
    "}"
   ]
  },
  {
   "cell_type": "code",
   "execution_count": null,
   "id": "9a3e6ad3",
   "metadata": {},
   "outputs": [
    {
     "name": "stdout",
     "output_type": "stream",
     "text": [
      "Regresja Liniowa: 211099613311267.06, 173812395595154693969839176810496.00, 9945.34, 0.42\n",
      "Drzewo decyzyjne: 15945.86, 4118039542.90, 7222.00, 0.23\n",
      "Drzewo decyzyjne(3,5): 20723.06, 4439781165.39, 10044.09, 0.07\n",
      "Drzewa decyzyjne(5,10): 18209.00, 4263788427.41, 7882.26, 0.08\n",
      "Las losowy: 13212.28, 3465608244.82, 5997.83, 6.80\n",
      "Las losowy(100,10): 13758.08, 3469830391.66, 6600.20, 3.74\n",
      "Las losowy(30,none): 13231.74, 3464614110.21, 5997.22, 3.37\n",
      "Regresja Ridge: 18012.28, 3749930906.03, 10097.95, 0.29\n",
      "Regresja Lasso: 17860.09, 3754236929.06, 9880.32, 1.19\n",
      "SVM: 38549.07, 6758127727.20, 25724.26, 0.15\n",
      "SVM(linear, 0.1): 43486.99, 7181498232.18, 30736.52, 0.15\n",
      "SVM(rbf, 2.0, scale): 26280.25, 5435423549.97, 15124.55, 3.79\n",
      "Gradient Boosting Regressor: 15276.80, 4263471195.11, 7229.72, 2.04\n",
      "Gradient Boosting Regressor(100,0.01): 19794.31, 4025268370.70, 13296.70, 2.00\n",
      "Gradient Boosting Regressor(200,0.1): 15023.19, 4697176361.46, 6606.90, 3.92\n",
      "AdaBoost: 42405.56, 7668912702.50, 30467.25, 4.70\n",
      "AdaBoost(50, 1.0): 40699.70, 5638304641.86, 26728.78, 4.81\n",
      "AdaBoost(100, 0.5): 50677.43, 8390509182.40, 44930.85, 9.41\n",
      "Bagging(50): 13028.46, 3345899120.96, 5977.36, 5.53\n",
      "Bagging(10): 13250.50, 3465007631.72, 6155.83, 1.11\n",
      "Bagging(150): 13234.58, 3547107960.21, 5978.55, 16.27\n"
     ]
    },
    {
     "name": "stderr",
     "output_type": "stream",
     "text": [
      "/home/mkapala/.local/lib/python3.10/site-packages/sklearn/linear_model/_ridge.py:204: LinAlgWarning: Ill-conditioned matrix (rcond=3.64437e-27): result may not be accurate.\n",
      "  return linalg.solve(A, Xy, assume_a=\"pos\", overwrite_a=True).T\n",
      "/home/mkapala/.local/lib/python3.10/site-packages/sklearn/linear_model/_ridge.py:204: LinAlgWarning: Ill-conditioned matrix (rcond=1.13749e-24): result may not be accurate.\n",
      "  return linalg.solve(A, Xy, assume_a=\"pos\", overwrite_a=True).T\n",
      "/home/mkapala/.local/lib/python3.10/site-packages/sklearn/linear_model/_ridge.py:204: LinAlgWarning: Ill-conditioned matrix (rcond=1.93957e-28): result may not be accurate.\n",
      "  return linalg.solve(A, Xy, assume_a=\"pos\", overwrite_a=True).T\n",
      "/home/mkapala/.local/lib/python3.10/site-packages/sklearn/linear_model/_ridge.py:204: LinAlgWarning: Ill-conditioned matrix (rcond=6.34861e-27): result may not be accurate.\n",
      "  return linalg.solve(A, Xy, assume_a=\"pos\", overwrite_a=True).T\n",
      "/home/mkapala/.local/lib/python3.10/site-packages/sklearn/linear_model/_ridge.py:204: LinAlgWarning: Ill-conditioned matrix (rcond=2.01742e-27): result may not be accurate.\n",
      "  return linalg.solve(A, Xy, assume_a=\"pos\", overwrite_a=True).T\n"
     ]
    },
    {
     "name": "stdout",
     "output_type": "stream",
     "text": [
      "Stacking(lr+svr+rf): 14694.97, 3492035801.76, 8661.00, 38.05\n",
      "Stacking(rf+svr): 15902.41, 3577960809.18, 10060.52, 4.84\n",
      "Stacking(gb+dt): 16244.90, 3887926208.94, 8665.16, 5.93\n"
     ]
    }
   ],
   "source": [
    "results = {}\n",
    "normResultsMAE=[]\n",
    "normResultsMSE=[]\n",
    "normResultsMedAE=[]\n",
    "timeResults=[]\n",
    "\n",
    "for index, element in enumerate(modelNames):\n",
    "    start_time = time.time()\n",
    "    results[element] = cross_validate(models[element], X, y, cv=kf, scoring=scoring, return_train_score=False)\n",
    "    end_time = time.time()\n",
    "    timeResults.append(end_time - start_time)\n",
    "    normResultsMAE.append(-np.mean(results[element]['test_MAE']))\n",
    "    normResultsMSE.append(-np.mean(results[element]['test_MSE']))\n",
    "    normResultsMedAE.append(-np.mean(results[element]['test_MedAE']))\n",
    "    print(f\"{element}: {normResultsMAE[-1]:.2f}, {normResultsMSE[-1]:.2f}, {normResultsMedAE[-1]:.2f}, {timeResults[-1]:.2f}\")"
   ]
  },
  {
   "cell_type": "code",
   "execution_count": null,
   "id": "d8f6857b",
   "metadata": {},
   "outputs": [],
   "source": [
    "resultsMAE = pd.DataFrame({'Model': modelNames,'MAE': normResultsMAE})\n",
    "resultsMSE = pd.DataFrame({'Model': modelNames, 'MSE': normResultsMSE})\n",
    "resultsMedAE = pd.DataFrame({'Model': modelNames,'MedAE': normResultsMedAE})\n",
    "resultsTime = pd.DataFrame({'Model': modelNames,'Time': timeResults})\n",
    "\n",
    "print(resultsMAE.sort_values(by='MAE'),end=\"\\n\\n\")\n",
    "print(resultsMSE.sort_values(by='MSE'),end=\"\\n\\n\")\n",
    "print(resultsMedAE.sort_values(by='MedAE'),end=\"\\n\\n\")\n",
    "print(resultsTime.sort_values(by='Time'),end=\"\\n\\n\")"
   ]
  },
  {
   "cell_type": "code",
   "execution_count": null,
   "id": "19c120be",
   "metadata": {},
   "outputs": [],
   "source": [
    "plt.figure(figsize=(16, 6))\n",
    "plt.bar(resultsMAE['Model'], resultsMAE['MAE'], color='purple')\n",
    "plt.xlabel('Model')\n",
    "plt.ylabel('MAE')\n",
    "plt.title('Porównanie średniego błędu bezwzględnego')\n",
    "plt.show()"
   ]
  },
  {
   "cell_type": "code",
   "execution_count": null,
   "id": "6d78f0fc",
   "metadata": {},
   "outputs": [],
   "source": [
    "plt.figure(figsize=(16, 6))\n",
    "plt.bar(resultsMSE['Model'], resultsMSE['MSE'], color='blue')\n",
    "plt.xlabel('Model')\n",
    "plt.ylabel('MSE')\n",
    "plt.title('Porównanie średniego błedu kwadratowego')\n",
    "plt.show()\n",
    "\n"
   ]
  },
  {
   "cell_type": "code",
   "execution_count": null,
   "id": "8af585bf",
   "metadata": {},
   "outputs": [],
   "source": [
    "plt.figure(figsize=(16, 6))\n",
    "plt.bar(resultsMedAE['Model'], resultsMedAE['MedAE'], color='green')\n",
    "plt.xlabel('Model')\n",
    "plt.ylabel('MedAE')\n",
    "plt.title('Porównanie mediany błędu bezwzględnego')\n",
    "plt.show()\n",
    "\n"
   ]
  },
  {
   "cell_type": "code",
   "execution_count": null,
   "id": "690c1b8a",
   "metadata": {},
   "outputs": [],
   "source": [
    "plt.figure(figsize=(16, 6))\n",
    "plt.bar(resultsTime['Model'], resultsTime['Time'], color='red')\n",
    "plt.xlabel('Model')\n",
    "plt.ylabel('Time')\n",
    "plt.title('Porównanie czasu wykonania')\n",
    "plt.show()"
   ]
  },
  {
   "cell_type": "code",
   "execution_count": null,
   "id": "5ba580f0",
   "metadata": {},
   "outputs": [],
   "source": [
    "model = models['Bagging(50)'].fit(X_train, y_train)"
   ]
  },
  {
   "cell_type": "code",
   "execution_count": null,
   "id": "02a30f7e",
   "metadata": {},
   "outputs": [],
   "source": [
    "print (model.score(X_test,y_test))\n",
    "plt.plot(model.loss_curve_)\n",
    "plt.plot(model.validation_scores_)"
   ]
  }
 ],
 "metadata": {
  "kernelspec": {
   "display_name": "Python 3 (ipykernel)",
   "language": "python",
   "name": "python3"
  },
  "language_info": {
   "codemirror_mode": {
    "name": "ipython",
    "version": 3
   },
   "file_extension": ".py",
   "mimetype": "text/x-python",
   "name": "python",
   "nbconvert_exporter": "python",
   "pygments_lexer": "ipython3",
   "version": "3.10.12"
  }
 },
 "nbformat": 4,
 "nbformat_minor": 5
}
